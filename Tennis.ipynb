{
 "cells": [
  {
   "cell_type": "markdown",
   "metadata": {},
   "source": [
    "# Collaboration and Competition\n",
    "\n",
    "---\n",
    "\n",
    "You are welcome to use this coding environment to train your agent for the project.  Follow the instructions below to get started!\n",
    "\n",
    "### 1. Start the Environment\n",
    "\n",
    "Run the next code cell to install a few packages.  This line will take a few minutes to run!"
   ]
  },
  {
   "cell_type": "code",
   "execution_count": 1,
   "metadata": {},
   "outputs": [
    {
     "name": "stdout",
     "output_type": "stream",
     "text": [
      "\u001b[31mtensorflow 1.7.1 has requirement numpy>=1.13.3, but you'll have numpy 1.12.1 which is incompatible.\u001b[0m\r\n",
      "\u001b[31mipython 6.5.0 has requirement prompt-toolkit<2.0.0,>=1.0.15, but you'll have prompt-toolkit 3.0.17 which is incompatible.\u001b[0m\r\n"
     ]
    }
   ],
   "source": [
    "!pip -q install ./python"
   ]
  },
  {
   "cell_type": "markdown",
   "metadata": {},
   "source": [
    "The environment is already saved in the Workspace and can be accessed at the file path provided below. "
   ]
  },
  {
   "cell_type": "code",
   "execution_count": 2,
   "metadata": {},
   "outputs": [
    {
     "name": "stderr",
     "output_type": "stream",
     "text": [
      "INFO:unityagents:\n",
      "'Academy' started successfully!\n",
      "Unity Academy name: Academy\n",
      "        Number of Brains: 1\n",
      "        Number of External Brains : 1\n",
      "        Lesson number : 0\n",
      "        Reset Parameters :\n",
      "\t\t\n",
      "Unity brain name: TennisBrain\n",
      "        Number of Visual Observations (per agent): 0\n",
      "        Vector Observation space type: continuous\n",
      "        Vector Observation space size (per agent): 8\n",
      "        Number of stacked Vector Observation: 3\n",
      "        Vector Action space type: continuous\n",
      "        Vector Action space size (per agent): 2\n",
      "        Vector Action descriptions: , \n"
     ]
    }
   ],
   "source": [
    "from unityagents import UnityEnvironment\n",
    "import numpy as np\n",
    "\n",
    "env = UnityEnvironment(file_name=\"/data/Tennis_Linux_NoVis/Tennis\")"
   ]
  },
  {
   "cell_type": "markdown",
   "metadata": {},
   "source": [
    "Environments contain **_brains_** which are responsible for deciding the actions of their associated agents. Here we check for the first brain available, and set it as the default brain we will be controlling from Python."
   ]
  },
  {
   "cell_type": "code",
   "execution_count": 3,
   "metadata": {},
   "outputs": [],
   "source": [
    "# get the default brain\n",
    "brain_name = env.brain_names[0]\n",
    "brain = env.brains[brain_name]"
   ]
  },
  {
   "cell_type": "markdown",
   "metadata": {},
   "source": [
    "### 2. Examine the State and Action Spaces\n",
    "\n",
    "Run the code cell below to print some information about the environment."
   ]
  },
  {
   "cell_type": "code",
   "execution_count": 4,
   "metadata": {},
   "outputs": [
    {
     "name": "stdout",
     "output_type": "stream",
     "text": [
      "Number of agents: 2\n",
      "Size of each action: 2\n",
      "There are 2 agents. Each observes a state with length: 24\n",
      "The state for the first agent looks like: [ 0.          0.          0.          0.          0.          0.          0.\n",
      "  0.          0.          0.          0.          0.          0.          0.\n",
      "  0.          0.         -6.65278625 -1.5        -0.          0.\n",
      "  6.83172083  6.         -0.          0.        ]\n"
     ]
    }
   ],
   "source": [
    "# reset the environment\n",
    "env_info = env.reset(train_mode=True)[brain_name]\n",
    "\n",
    "# number of agents \n",
    "num_agents = len(env_info.agents)\n",
    "print('Number of agents:', num_agents)\n",
    "\n",
    "# size of each action\n",
    "action_size = brain.vector_action_space_size\n",
    "print('Size of each action:', action_size)\n",
    "\n",
    "# examine the state space \n",
    "states = env_info.vector_observations\n",
    "state_size = states.shape[1]\n",
    "print('There are {} agents. Each observes a state with length: {}'.format(states.shape[0], state_size))\n",
    "print('The state for the first agent looks like:', states[0])"
   ]
  },
  {
   "cell_type": "markdown",
   "metadata": {},
   "source": [
    "### 3. Take Random Actions in the Environment\n",
    "\n",
    "In the next code cell, you will learn how to use the Python API to control the agent and receive feedback from the environment.\n",
    "\n",
    "Note that **in this coding environment, you will not be able to watch the agents while they are training**, and you should set `train_mode=True` to restart the environment."
   ]
  },
  {
   "cell_type": "code",
   "execution_count": 5,
   "metadata": {},
   "outputs": [
    {
     "name": "stdout",
     "output_type": "stream",
     "text": [
      "Total score (averaged over agents) this episode: -0.004999999888241291\n",
      "Total score (averaged over agents) this episode: -0.004999999888241291\n",
      "Total score (averaged over agents) this episode: 0.04500000085681677\n",
      "Total score (averaged over agents) this episode: -0.004999999888241291\n",
      "Total score (averaged over agents) this episode: -0.004999999888241291\n"
     ]
    }
   ],
   "source": [
    "for i in range(5):                                         # play game for 5 episodes\n",
    "    env_info = env.reset(train_mode=False)[brain_name]     # reset the environment    \n",
    "    states = env_info.vector_observations                  # get the current state (for each agent)\n",
    "    scores = np.zeros(num_agents)                          # initialize the score (for each agent)\n",
    "    while True:\n",
    "        actions = np.random.randn(num_agents, action_size) # select an action (for each agent)\n",
    "        actions = np.clip(actions, -1, 1)                  # all actions between -1 and 1\n",
    "        env_info = env.step(actions)[brain_name]           # send all actions to tne environment\n",
    "        next_states = env_info.vector_observations         # get next state (for each agent)\n",
    "        rewards = env_info.rewards                         # get reward (for each agent)\n",
    "        dones = env_info.local_done                        # see if episode finished\n",
    "        scores += env_info.rewards                         # update the score (for each agent)\n",
    "        states = next_states                               # roll over states to next time step\n",
    "        if np.any(dones):                                  # exit loop if episode finished\n",
    "            break\n",
    "    print('Total score (averaged over agents) this episode: {}'.format(np.mean(scores)))"
   ]
  },
  {
   "cell_type": "code",
   "execution_count": 6,
   "metadata": {},
   "outputs": [
    {
     "data": {
      "text/plain": [
       "[True, True]"
      ]
     },
     "execution_count": 6,
     "metadata": {},
     "output_type": "execute_result"
    }
   ],
   "source": [
    "dones"
   ]
  },
  {
   "cell_type": "markdown",
   "metadata": {},
   "source": [
    "When finished, you can close the environment."
   ]
  },
  {
   "cell_type": "code",
   "execution_count": 7,
   "metadata": {},
   "outputs": [],
   "source": [
    "#env.close()"
   ]
  },
  {
   "cell_type": "markdown",
   "metadata": {},
   "source": [
    "### 4. It's Your Turn!\n",
    "\n",
    "Now it's your turn to train your own agent to solve the environment!  A few **important notes**:\n",
    "- When training the environment, set `train_mode=True`, so that the line for resetting the environment looks like the following:\n",
    "```python\n",
    "env_info = env.reset(train_mode=True)[brain_name]\n",
    "```\n",
    "- To structure your work, you're welcome to work directly in this Jupyter notebook, or you might like to start over with a new file!  You can see the list of files in the workspace by clicking on **_Jupyter_** in the top left corner of the notebook.\n",
    "- In this coding environment, you will not be able to watch the agents while they are training.  However, **_after training the agents_**, you can download the saved model weights to watch the agents on your own machine! "
   ]
  },
  {
   "cell_type": "code",
   "execution_count": 8,
   "metadata": {},
   "outputs": [],
   "source": [
    "import numpy as np\n",
    "import torch\n",
    "import torch.nn as nn\n",
    "import torch.nn.functional as F\n",
    "import torch.optim as optim\n",
    "import copy\n",
    "import random\n",
    "from collections import namedtuple, deque\n",
    "from matplotlib import pyplot as plt"
   ]
  },
  {
   "cell_type": "code",
   "execution_count": 9,
   "metadata": {},
   "outputs": [],
   "source": [
    "def hidden_init(layer):\n",
    "    '''Function for initializing the neural network weights'''\n",
    "    fan_in = layer.weight.data.size()[0]\n",
    "    lim = 1. / np.sqrt(fan_in)\n",
    "    return (-lim, lim)\n",
    "\n",
    "class Actor(nn.Module):\n",
    "    '''Neural network for the Actor'''\n",
    "    def __init__(self, state_size, action_size, hidden_size = 128, hidden_size1 = 64):\n",
    "        super(Actor,self).__init__()\n",
    "        self.fc1 = nn.Linear(state_size, hidden_size)\n",
    "        self.fc2 = nn.Linear(hidden_size,hidden_size1)\n",
    "        self.fc3 = nn.Linear(hidden_size1,action_size)\n",
    "        self.reset_parameters()\n",
    "    def reset_parameters(self):\n",
    "        self.fc1.weight.data.uniform_(*hidden_init(self.fc1))\n",
    "        self.fc2.weight.data.uniform_(*hidden_init(self.fc2))\n",
    "        self.fc3.weight.data.uniform_(-3e-3, 3e-3)\n",
    "    def forward(self, state):\n",
    "        x = F.relu(self.fc1(state))\n",
    "        x = F.relu(self.fc2(x))\n",
    "        return F.tanh(self.fc3(x))\n",
    "\n",
    "class Critic(nn.Module):\n",
    "    '''Neural network for the Critic'''\n",
    "    def __init__(self, state_size, action_size, hidden_size_s = 128, hidden_size = 64):\n",
    "        super(Critic, self).__init__()\n",
    "        self.fs = nn.Linear(2*state_size,hidden_size_s)\n",
    "        self.fc1 = nn.Linear(hidden_size_s+2*action_size, hidden_size)\n",
    "        self.fc2 = nn.Linear(hidden_size, 1)\n",
    "        self.reset_parameters()\n",
    "    def reset_parameters(self):\n",
    "        self.fs.weight.data.uniform_(*hidden_init(self.fs))\n",
    "        self.fc1.weight.data.uniform_(*hidden_init(self.fc1))\n",
    "        self.fc2.weight.data.uniform_(-3e-3, 3e-3)   \n",
    "    def forward(self, state_full, action_full):\n",
    "        state_full = torch.cat((torch.squeeze(state_full[:,0,:]),torch.squeeze(state_full[:,1,:])),dim=-1)\n",
    "        action_full = torch.cat((torch.squeeze(action_full[:,0,:]),torch.squeeze(action_full[:,1,:])),dim=-1)\n",
    "        xs = F.leaky_relu(self.fs(state_full))\n",
    "        x = torch.cat((xs, action_full), dim = 1)\n",
    "        x = F.relu(self.fc1(x))\n",
    "        return self.fc2(x)\n",
    "class OUNoise:\n",
    "    '''Noise based on Ornstein-Uhlenbeck process'''\n",
    "    def __init__(self, size, mu=0., theta=0.2, sigma=0.15):\n",
    "        self.mu = mu*np.ones(size)\n",
    "        self.theta = theta\n",
    "        self.sigma = sigma\n",
    "        self.reset()\n",
    "    def reset(self):\n",
    "        self.state = copy.copy(self.mu)\n",
    "    def sample(self):\n",
    "        x = self.state\n",
    "        dx = self.theta*(self.mu - x) + self.sigma*np.array([random.random() for i in range(len(x))])\n",
    "        self.state = x+dx\n",
    "        return self.state\n",
    "\n",
    "class ReplayBuffer:\n",
    "    '''Replay buffer to store all experiences tuples'''\n",
    "    def __init__(self, buffer_size, batch_size):\n",
    "        self.buffer_size = buffer_size\n",
    "        self.batch_size = batch_size\n",
    "        self.memory = deque(maxlen = buffer_size)\n",
    "        self.experience = namedtuple('Experience',field_names=['state', 'action', 'reward', 'next_state', 'done'])\n",
    "    def add(self, state, action, reward, next_state, done):\n",
    "        e = self.experience(state, action, reward, next_state, done)\n",
    "        self.memory.append(e)\n",
    "    def sample(self):\n",
    "        experience = random.sample(self.memory, k=self.batch_size)\n",
    "        states = torch.from_numpy(np.stack([e.state for e in experience if e is not None],axis=0)).float().to(device)\n",
    "        actions = torch.from_numpy(np.stack([e.action for e in experience if e is not None],axis=0)).float().to(device)\n",
    "        rewards = torch.from_numpy(np.stack([e.reward for e in experience if e is not None],axis=0)).float().to(device)\n",
    "        next_states = torch.from_numpy(np.stack([e.next_state for e in experience if e is not None],axis=0)).float().to(device)\n",
    "        dones = torch.from_numpy(np.stack([e.done for e in experience if e is not None],axis=0).astype(np.uint8)).float().to(device)\n",
    "        return (states, actions, rewards, next_states, dones)\n",
    "    def __len__(self):\n",
    "        return len(self.memory)"
   ]
  },
  {
   "cell_type": "code",
   "execution_count": 10,
   "metadata": {},
   "outputs": [],
   "source": [
    "device = torch.device('cuda:0' if torch.cuda.is_available() else 'cpu')\n",
    "class ddpg:\n",
    "    '''Class of a single agent based on deep deterministic policy gradien network'''\n",
    "    def __init__(self, state_size, action_size):\n",
    "        self.state_size= state_size\n",
    "        self.action_size = action_size\n",
    "        self.actor = Actor(state_size, action_size).to(device)\n",
    "        self.actor_target = Actor(state_size, action_size).to(device)\n",
    "        self.actor_target.eval()\n",
    "        self.actor_target.load_state_dict(self.actor.state_dict())\n",
    "        self.actor_optim = optim.Adam(self.actor.parameters(), lr = 1e-4)\n",
    "        self.critic = Critic(state_size, action_size).to(device)\n",
    "        self.critic_target = Critic(state_size, action_size).to(device)\n",
    "        self.critic_target.eval()\n",
    "        self.critic_target.load_state_dict(self.critic.state_dict())\n",
    "        self.critic_optim = optim.Adam(self.critic.parameters(), lr = 3e-4)\n",
    "        self.noise = OUNoise(action_size)\n",
    "        self.noise_reduction = 0.99\n",
    "        self.noise_coefficient = 1\n",
    "        \n",
    "    def act(self, state, add_noise=True):\n",
    "        x = torch.from_numpy(state).float().to(device)\n",
    "        self.actor.eval()\n",
    "        with torch.no_grad():\n",
    "            action = self.actor(x).cpu().data.numpy()\n",
    "        if add_noise:\n",
    "            action+=self.noise_coefficient*self.noise.sample()\n",
    "            #self.noise_coefficient*=self.noise_reduction\n",
    "        return np.clip(action,-1,1)\n",
    "    \n",
    "    def soft_update(self, tau = 0.001):\n",
    "        for local_param, target_param in zip(self.critic.parameters(), self.critic_target.parameters()):\n",
    "            with torch.no_grad():\n",
    "                target_param.data.copy_(tau*local_param+(1-tau)*target_param)\n",
    "            \n",
    "        for local_param, target_param in zip(self.actor.parameters(), self.actor_target.parameters()):\n",
    "            with torch.no_grad():\n",
    "                target_param.data.copy_(tau*local_param+(1-tau)*target_param)\n",
    "            \n",
    "    def reset(self):\n",
    "        self.noise.reset()\n",
    "        "
   ]
  },
  {
   "cell_type": "code",
   "execution_count": 11,
   "metadata": {},
   "outputs": [],
   "source": [
    "class maddpg:\n",
    "    '''Define multiple agent, experience replay buffer, and training for the ciritc and actor network for each agent'''\n",
    "    def __init__(self, GAMMA=0.99):\n",
    "        self.GAMMA= GAMMA\n",
    "        self.ddpg_agents = [ddpg(state_size,action_size), ddpg(state_size,action_size)]\n",
    "        self.replay_buffer = ReplayBuffer(buffer_size, batch_size)\n",
    "    def act(self, obs_all_agents):\n",
    "        actions = [agent.act(obs) for agent, obs in zip(self.ddpg_agents, obs_all_agents)]\n",
    "        return actions\n",
    "    def learn(self):\n",
    "        if len(self.replay_buffer)>batch_size:\n",
    "            experience = self.replay_buffer.sample()\n",
    "            '''learning for critics'''\n",
    "            full_states, full_actions, full_rewards, full_next_states, full_dones = experience\n",
    "            with torch.no_grad():    \n",
    "                full_next_actions = torch.stack([self.ddpg_agents[i].actor_target(torch.squeeze(full_next_states[:,i,:])) for i in range(2)],dim=1)\n",
    "            for i, agent in enumerate(self.ddpg_agents):\n",
    "                Q_next = agent.critic_target(full_next_states,full_next_actions)\n",
    "                Q_target = full_rewards[:,i]+self.GAMMA*torch.squeeze(Q_next)*(1-full_dones[:,i])\n",
    "                Q_expected = agent.critic(full_states,full_actions)\n",
    "                huber_loss = torch.nn.SmoothL1Loss()\n",
    "                critic_loss = huber_loss(torch.squeeze(Q_expected), Q_target.detach())\n",
    "                agent.critic_optim.zero_grad()\n",
    "                critic_loss.backward()\n",
    "                agent.critic_optim.step()\n",
    "            '''learning for actors'''\n",
    "            for i, agent in enumerate(self.ddpg_agents):\n",
    "                full_pred_actions = []\n",
    "                for j in range(2):\n",
    "                    if j==i:\n",
    "                        full_pred_actions.append(agent.actor(torch.squeeze(full_states[:,j,:])))\n",
    "                    else:\n",
    "                        full_pred_actions.append(self.ddpg_agents[j].actor(torch.squeeze(full_states[:,j,:])).detach())                        \n",
    "                full_pred_actions = torch.stack(full_pred_actions,dim=1)\n",
    "                agent.critic.eval()\n",
    "                pred_Q = agent.critic(full_states,full_pred_actions)\n",
    "                actor_loss= -pred_Q.mean()\n",
    "                agent.actor_optim.zero_grad()\n",
    "                actor_loss.backward()\n",
    "                agent.actor_optim.step()\n",
    "            for agent in self.ddpg_agents:\n",
    "                agent.soft_update()\n",
    "    def add(self, state, action, reward, next_state, done):\n",
    "        self.replay_buffer.add(state, action, reward, next_state, done)\n",
    "    def reset(self):\n",
    "        for agent in self.ddpg_agents:\n",
    "            agent.reset()"
   ]
  },
  {
   "cell_type": "code",
   "execution_count": 12,
   "metadata": {},
   "outputs": [],
   "source": [
    "buffer_size = 1000000\n",
    "batch_size = 128\n",
    "magent = maddpg()\n",
    "scores_record = []\n",
    "scores_record_100 = []\n",
    "scores_deque = deque(maxlen=100)\n",
    "solved = False"
   ]
  },
  {
   "cell_type": "code",
   "execution_count": 18,
   "metadata": {},
   "outputs": [
    {
     "name": "stdout",
     "output_type": "stream",
     "text": [
      "Environment solved in 3862 episodes\n",
      "Episode:3870 Average score (100 episodes): 0.5315000079385936\n",
      "Episode:3880 Average score (100 episodes): 0.5705000085197389\n",
      "Episode:3890 Average score (100 episodes): 0.5886000087857246\n",
      "Episode:3900 Average score (100 episodes): 0.6215000092796982\n",
      "Episode:3910 Average score (100 episodes): 0.6046000090241432\n",
      "Episode:3920 Average score (100 episodes): 0.5777000086195767\n",
      "Episode:3930 Average score (100 episodes): 0.5778000086173415\n",
      "Episode:3940 Average score (100 episodes): 0.5657000084407627\n",
      "Episode:3950 Average score (100 episodes): 0.5646000084280968\n",
      "Episode:3960 Average score (100 episodes): 0.49960000745952127\n",
      "Episode:3970 Average score (100 episodes): 0.4806000071763992\n",
      "Episode:3980 Average score (100 episodes): 0.5066000075638294\n",
      "Episode:3990 Average score (100 episodes): 0.5386000080406665\n",
      "Episode:4000 Average score (100 episodes): 0.523700007814914\n"
     ]
    },
    {
     "data": {
      "text/plain": [
       "[<matplotlib.lines.Line2D at 0x7f8eed205c18>]"
      ]
     },
     "execution_count": 18,
     "metadata": {},
     "output_type": "execute_result"
    },
    {
     "data": {
      "image/png": "[encoded data removed]",
      "text/plain": [
       "<matplotlib.figure.Figure at 0x7f8ef4568470>"
      ]
     },
     "metadata": {
      "needs_background": "light"
     },
     "output_type": "display_data"
    }
   ],
   "source": [
    "def train(epochs = 1000):\n",
    "    '''Agent interact with the environment and its experience is stored and sampled to train the actor and critic neural network'''\n",
    "    global solved\n",
    "    for i_episode in range(3861,4000):\n",
    "        env_info = env.reset(train_mode=True)[brain_name]\n",
    "        magent.reset()\n",
    "        states = env_info.vector_observations\n",
    "        scores = np.zeros(2)\n",
    "        while True:\n",
    "            actions = magent.act(states)\n",
    "            env_info = env.step(actions)[brain_name]\n",
    "            next_states = env_info.vector_observations\n",
    "            rewards = env_info.rewards\n",
    "            dones = env_info.local_done\n",
    "            scores+=rewards\n",
    "            magent.add(states,actions,rewards,next_states, dones)\n",
    "            magent.learn()\n",
    "            magent.learn()\n",
    "            states = next_states\n",
    "            if np.any(dones):\n",
    "                break\n",
    "        max_score = np.max(scores)\n",
    "        scores_record.append(max_score)\n",
    "        scores_deque.append(max_score)\n",
    "        scores_record_100.append(np.mean(scores_deque))\n",
    "        if (i_episode+1)%10==0:\n",
    "            print('Episode:{} Average score (100 episodes): {}'.format(i_episode+1,np.mean(scores_deque)))\n",
    "        if (np.mean(scores_deque)>0.5) and (solved == False):\n",
    "            print('Environment solved in {} episodes'.format(i_episode+1))\n",
    "            solved = True\n",
    "        \n",
    "train()\n",
    "plt.plot(scores_record)\n",
    "plt.plot(scores_record_100)"
   ]
  },
  {
   "cell_type": "code",
   "execution_count": 21,
   "metadata": {},
   "outputs": [],
   "source": [
    "'''save checkpoints'''\n",
    "torch.save(magent.ddpg_agents[0].actor.state_dict(), 'checkpoint_actor_1.pth')\n",
    "torch.save(magent.ddpg_agents[0].critic.state_dict(), 'checkpoint_critic_1.pth')\n",
    "\n",
    "torch.save(magent.ddpg_agents[0].actor.to('cpu').state_dict(), 'checkpoint_actor_cpu_1.pth')\n",
    "torch.save(magent.ddpg_agents[0].critic.to('cpu').state_dict(), 'checkpoint_critic_cpu_1.pth')\n",
    "\n",
    "torch.save(magent.ddpg_agents[1].actor.state_dict(), 'checkpoint_actor_2.pth')\n",
    "torch.save(magent.ddpg_agents[1].critic.state_dict(), 'checkpoint_critic_2.pth')\n",
    "\n",
    "torch.save(magent.ddpg_agents[1].actor.to('cpu').state_dict(), 'checkpoint_actor_cpu_2.pth')\n",
    "torch.save(magent.ddpg_agents[1].critic.to('cpu').state_dict(), 'checkpoint_critic_cpu_2.pth')"
   ]
  },
  {
   "cell_type": "code",
   "execution_count": 22,
   "metadata": {},
   "outputs": [
    {
     "data": {
      "image/png": "[encoded data removed]",
      "text/plain": [
       "<matplotlib.figure.Figure at 0x7f8eed1dd0f0>"
      ]
     },
     "metadata": {},
     "output_type": "display_data"
    }
   ],
   "source": [
    "'''plot score'''\n",
    "fig, ax = plt.subplots()\n",
    "score_record_mean = [np.mean(s) for s in scores_record]\n",
    "ax.plot(score_record_mean)\n",
    "ax.plot(np.arange(100,len(scores_record_100)),scores_record_100[100:], label = 'average over 100 episodes')\n",
    "ax.set_xlabel('Episodes')\n",
    "ax.set_ylabel('Score')\n",
    "fig.patch.set_facecolor('white')\n",
    "plt.legend() \n",
    "plt.rcParams.update({'font.size': 12})"
   ]
  },
  {
   "cell_type": "code",
   "execution_count": null,
   "metadata": {},
   "outputs": [],
   "source": []
  }
 ],
 "metadata": {
  "kernelspec": {
   "display_name": "Python 3",
   "language": "python",
   "name": "python3"
  },
  "language_info": {
   "codemirror_mode": {
    "name": "ipython",
    "version": 3
   },
   "file_extension": ".py",
   "mimetype": "text/x-python",
   "name": "python",
   "nbconvert_exporter": "python",
   "pygments_lexer": "ipython3",
   "version": "3.6.3"
  }
 },
 "nbformat": 4,
 "nbformat_minor": 2
}
